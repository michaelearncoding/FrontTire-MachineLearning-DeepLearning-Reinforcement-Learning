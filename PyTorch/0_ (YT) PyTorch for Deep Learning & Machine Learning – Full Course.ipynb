{
 "cells": [
  {
   "cell_type": "markdown",
   "id": "1399cc25-3ca1-4f84-92b7-0458c1e631c4",
   "metadata": {},
   "source": [
    "https://www.youtube.com/watch?v=V_xro1bcAuA&t=122s"
   ]
  },
  {
   "cell_type": "code",
   "execution_count": 1,
   "id": "3f468f98-98a3-43b1-9e49-ec5cc6291332",
   "metadata": {},
   "outputs": [
    {
     "data": {
      "text/plain": [
       "'2.5.1'"
      ]
     },
     "execution_count": 1,
     "metadata": {},
     "output_type": "execute_result"
    }
   ],
   "source": [
    "import torch\n",
    "from torch import nn # nn contains all of PyTorch's building blocks for neural networks\n",
    "import matplotlib.pyplot as plt\n",
    "\n",
    "# Check PyTorch version\n",
    "torch.__version__"
   ]
  },
  {
   "cell_type": "code",
   "execution_count": null,
   "id": "3577f9e9-351b-403a-bb5a-d7a60d5df23b",
   "metadata": {},
   "outputs": [],
   "source": []
  },
  {
   "cell_type": "code",
   "execution_count": null,
   "id": "e75f7a4b-42c6-46d0-a741-912223ecf882",
   "metadata": {},
   "outputs": [],
   "source": []
  }
 ],
 "metadata": {
  "kernelspec": {
   "display_name": "NN",
   "language": "python",
   "name": "nn"
  },
  "language_info": {
   "codemirror_mode": {
    "name": "ipython",
    "version": 3
   },
   "file_extension": ".py",
   "mimetype": "text/x-python",
   "name": "python",
   "nbconvert_exporter": "python",
   "pygments_lexer": "ipython3",
   "version": "3.11.11"
  }
 },
 "nbformat": 4,
 "nbformat_minor": 5
}
