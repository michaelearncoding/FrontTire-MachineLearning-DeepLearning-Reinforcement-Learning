{
 "cells": [
  {
   "cell_type": "markdown",
   "id": "23f181bc-1ecb-488a-b95c-28ea4e4bd6c6",
   "metadata": {},
   "source": [
    "1. (10 points) Consider a private value auction of one good when bidders have quasi-linear utilities and know their own valuations. Prove that bidding truthfully is a dominant strategy in the Vickrey auction. (Prove this from f irst-principles; and not from the fact that the Vickrey auction is a special case of the VCG mechanism.)"
   ]
  },
  {
   "cell_type": "markdown",
   "id": "908720bb-24df-427f-b362-699700339903",
   "metadata": {},
   "source": [
    "### Setup\n",
    "- Single good auction\n",
    "- n bidders, each with private value vi\n",
    "- Vickrey (second-price) auction format\n",
    "- Winner pays second-highest bid\n",
    "- Quasi-linear utilities: ui = vi - p if win, 0 if lose\n",
    "\n",
    "### Proof\n",
    "Let's prove bi = vi (truthful bid) dominates any other bid b'i ≠ vi\n",
    "\n",
    "Case 1: b'i > vi (Overbidding)\n",
    "- If highest other bid h < vi: \n",
    "  - Truthful bid wins, pays h\n",
    "  - Overbid wins, pays h\n",
    "  - Same utility\n",
    "- If vi < h < b'i:\n",
    "  - Truthful bid loses, utility = 0\n",
    "  - Overbid wins, pays h > vi\n",
    "  - Negative utility\n",
    "- If h > b'i:\n",
    "  - Both lose, utility = 0\n",
    "\n",
    "Case 2: b'i < vi (Underbidding)\n",
    "- If highest other bid h < b'i:\n",
    "  - Both win, pay h\n",
    "  - Same utility\n",
    "- If b'i < h < vi:\n",
    "  - Truthful bid wins, positive utility\n",
    "  - Underbid loses, utility = 0\n",
    "- If h > vi:\n",
    "  - Both lose, utility = 0\n",
    "\n",
    "Therefore:\n",
    "- Truthful bidding weakly dominates overbidding\n",
    "- Truthful bidding weakly dominates underbidding\n",
    "- Truthful bidding is a dominant strategy"
   ]
  },
  {
   "cell_type": "code",
   "execution_count": null,
   "id": "782a3eed-3a19-4342-ac13-e82cae42a5cb",
   "metadata": {},
   "outputs": [],
   "source": []
  },
  {
   "cell_type": "code",
   "execution_count": null,
   "id": "743fce8a-b5bf-4e5a-a787-d44516488be9",
   "metadata": {},
   "outputs": [],
   "source": []
  },
  {
   "cell_type": "code",
   "execution_count": null,
   "id": "7b9a990c-cf4f-42ab-a3f2-973db071766f",
   "metadata": {},
   "outputs": [],
   "source": []
  },
  {
   "cell_type": "code",
   "execution_count": null,
   "id": "8947edbd-55ab-4156-8114-c5595ebd8fe8",
   "metadata": {},
   "outputs": [],
   "source": []
  }
 ],
 "metadata": {
  "kernelspec": {
   "display_name": "NN",
   "language": "python",
   "name": "nn"
  },
  "language_info": {
   "codemirror_mode": {
    "name": "ipython",
    "version": 3
   },
   "file_extension": ".py",
   "mimetype": "text/x-python",
   "name": "python",
   "nbconvert_exporter": "python",
   "pygments_lexer": "ipython3",
   "version": "3.11.11"
  }
 },
 "nbformat": 4,
 "nbformat_minor": 5
}
