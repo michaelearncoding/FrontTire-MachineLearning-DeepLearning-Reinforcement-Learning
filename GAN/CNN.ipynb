{
 "cells": [
  {
   "cell_type": "code",
   "execution_count": null,
   "id": "bdd6442f-ad16-4189-b487-75f9bf69f6fb",
   "metadata": {},
   "outputs": [],
   "source": []
  },
  {
   "cell_type": "code",
   "execution_count": null,
   "id": "db549e22-5edb-46bf-b490-b9b05672092f",
   "metadata": {},
   "outputs": [],
   "source": []
  },
  {
   "cell_type": "markdown",
   "id": "031aea07-231a-4159-9189-c05edc1a9792",
   "metadata": {},
   "source": [
    "1. 理论基础\n",
    "\n",
    "CNN 的基本结构是什么？\n",
    "\n",
    "考察你是否了解卷积层、池化层、全连接层等核心组件。\n",
    "\n",
    "可以进一步追问每层的作用（如卷积层提取特征，池化层降维等）。\n",
    "\n",
    "卷积操作的作用是什么？\n",
    "\n",
    "考察你是否理解卷积操作如何提取局部特征，以及为什么卷积适合处理图像数据。\n",
    "\n",
    "什么是感受野（Receptive Field）？\n",
    "\n",
    "考察你对感受野的理解，以及如何计算感受野的大小。\n",
    "\n",
    "池化层的作用是什么？最大池化和平均池化有什么区别？\n",
    "\n",
    "考察你是否理解池化层的降维和抗过拟合作用，以及不同池化方法的优缺点。\n",
    "\n",
    "什么是填充（Padding）和步幅（Stride）？\n",
    "\n",
    "考察你是否理解填充和步幅对输出特征图大小的影响。\n",
    "\n",
    "CNN 为什么适合处理图像数据？\n",
    "\n",
    "考察你是否理解 CNN 的局部连接、权值共享和平移不变性等特点。\n",
    "\n",
    "什么是通道（Channel）？1x1 卷积的作用是什么？\n",
    "\n",
    "考察你是否理解多通道特征图的概念，以及 1x1 卷积在降维和特征融合中的作用。\n",
    "\n",
    "CNN 的常见优化方法有哪些？\n",
    "\n",
    "考察你是否了解批量归一化（Batch Normalization）、Dropout、权重初始化等方法。"
   ]
  },
  {
   "cell_type": "code",
   "execution_count": null,
   "id": "458e1241-fdc9-4a54-b7e5-d0e6cbc25f53",
   "metadata": {},
   "outputs": [],
   "source": []
  },
  {
   "cell_type": "markdown",
   "id": "9b88b568-b4c0-4326-843c-06fd414a2da7",
   "metadata": {},
   "source": [
    "2. 实践应用\n",
    "常见问题：\n",
    "\n",
    "\n",
    "你用过哪些深度学习框架（如 TensorFlow、PyTorch）实现 CNN？\n",
    "\n",
    "考察你对框架的熟悉程度，能否快速实现一个简单的 CNN 模型。\n",
    "\n",
    "如何设计一个 CNN 模型来解决图像分类问题？\n",
    "\n",
    "考察你对模型设计的理解，包括层数、卷积核大小、激活函数等选择。\n",
    "\n",
    "如何解决过拟合问题？\n",
    "\n",
    "考察你是否了解数据增强、正则化、早停等方法。\n",
    "\n",
    "如何处理图像数据？\n",
    "\n",
    "考察你是否了解图像预处理（如归一化、数据增强）和加载数据的方法。\n",
    "\n",
    "如何评估 CNN 模型的性能？\n",
    "\n",
    "考察你是否了解常见的评估指标（如准确率、精确率、召回率、F1 分数）以及混淆矩阵。\n",
    "\n"
   ]
  },
  {
   "cell_type": "code",
   "execution_count": null,
   "id": "9d27f228-edd9-42b5-9c19-cb4440465786",
   "metadata": {},
   "outputs": [],
   "source": []
  },
  {
   "cell_type": "code",
   "execution_count": 1,
   "id": "480d63b5-f511-40f1-9af0-ba86ded55be4",
   "metadata": {},
   "outputs": [],
   "source": [
    "import torch\n",
    "import torch.nn as nn\n",
    "import torch.optim as optim\n",
    "from torch.utils.data import DataLoader\n",
    "from torchvision import datasets, transforms\n",
    "import matplotlib.pyplot as plt"
   ]
  },
  {
   "cell_type": "code",
   "execution_count": 2,
   "id": "a0dc1fdb-40b6-4f52-b204-28cd83d7aa98",
   "metadata": {},
   "outputs": [],
   "source": [
    "# 定义数据预处理\n",
    "transform = transforms.Compose([\n",
    "    transforms.ToTensor(),  # 将图像转换为张量\n",
    "    transforms.Normalize((0.5,), (0.5,))  # 归一化到 [-1, 1]\n",
    "])\n",
    "\n",
    "# 加载训练集和测试集\n",
    "train_dataset = datasets.MNIST(root='./data', train=True, download=True, transform=transform)\n",
    "test_dataset = datasets.MNIST(root='./data', train=False, download=True, transform=transform)\n",
    "\n",
    "# 创建 DataLoader\n",
    "train_loader = DataLoader(train_dataset, batch_size=64, shuffle=True)\n",
    "test_loader = DataLoader(test_dataset, batch_size=64, shuffle=False)"
   ]
  },
  {
   "cell_type": "code",
   "execution_count": 3,
   "id": "9dfceedb-bea6-4873-b05b-8aef21e55053",
   "metadata": {},
   "outputs": [],
   "source": [
    "class SimpleCNN(nn.Module):\n",
    "    def __init__(self):\n",
    "        super(SimpleCNN, self).__init__()\n",
    "        # 卷积层 1：输入通道 1，输出通道 32，卷积核大小 3x3，填充 1\n",
    "        self.conv1 = nn.Conv2d(1, 32, kernel_size=3, stride=1, padding=1)\n",
    "        # 池化层：最大池化，核大小 2x2，步幅 2\n",
    "        self.pool = nn.MaxPool2d(kernel_size=2, stride=2)\n",
    "        # 卷积层 2：输入通道 32，输出通道 64，卷积核大小 3x3，填充 1\n",
    "        self.conv2 = nn.Conv2d(32, 64, kernel_size=3, stride=1, padding=1)\n",
    "        # 全连接层 1：输入大小 64*7*7，输出大小 128\n",
    "        self.fc1 = nn.Linear(64 * 7 * 7, 128)\n",
    "        # 全连接层 2：输入大小 128，输出大小 10（10 个类别）\n",
    "        self.fc2 = nn.Linear(128, 10)\n",
    "        # 激活函数\n",
    "        self.relu = nn.ReLU()\n",
    "\n",
    "    def forward(self, x):\n",
    "        # 卷积层 1 + 池化 + ReLU\n",
    "        x = self.pool(self.relu(self.conv1(x)))\n",
    "        # 卷积层 2 + 池化 + ReLU\n",
    "        x = self.pool(self.relu(self.conv2(x)))\n",
    "        # 展平张量\n",
    "        x = x.view(-1, 64 * 7 * 7)\n",
    "        # 全连接层 1 + ReLU\n",
    "        x = self.relu(self.fc1(x))\n",
    "        # 全连接层 2（输出层）\n",
    "        x = self.fc2(x)\n",
    "        return x"
   ]
  },
  {
   "cell_type": "code",
   "execution_count": null,
   "id": "bb087db2-9915-404a-9548-79b106d94fb7",
   "metadata": {},
   "outputs": [],
   "source": []
  },
  {
   "cell_type": "code",
   "execution_count": null,
   "id": "cf5468f5-7a1a-4ed3-9cba-2882d2e3aa9c",
   "metadata": {},
   "outputs": [],
   "source": [
    "#卷积操作\n",
    "self.conv1 = nn.Conv2d(1, 32, kernel_size=3, stride=1, padding=1)\n"
   ]
  },
  {
   "cell_type": "markdown",
   "id": "be282186",
   "metadata": {},
   "source": [
    "理解参数含义：输入通道、输出通道、卷积核大小\n",
    "\n",
    "步长(stride)和填充(padding)的作用\n",
    "\n",
    "感受野计算\n",
    "\n",
    "特征图尺寸计算\n",
    "\n",
    "输出大小 = (W - F + 2P)/S + 1\n",
    "W=输入尺寸，F=卷积核，P=填充，S=步长\n",
    "参数量计算\n",
    "\n",
    "卷积层：(K×K×Cin + 1) × Cout\n",
    "全连接层：(Nin + 1) × Nout\n"
   ]
  },
  {
   "cell_type": "code",
   "execution_count": null,
   "id": "9a136782-17e7-46ea-8353-7da2826220e4",
   "metadata": {},
   "outputs": [],
   "source": [
    "# 常见层类型\n",
    "self.conv1 = nn.Conv2d()     # 卷积层\n",
    "self.pool = nn.MaxPool2d()   # 池化层\n",
    "self.fc1 = nn.Linear()       # 全连接层\n",
    "self.relu = nn.ReLU()        # 激活函数"
   ]
  },
  {
   "cell_type": "code",
   "execution_count": null,
   "id": "6370c7cc-28cc-4079-a125-c9a7cf84ec7e",
   "metadata": {},
   "outputs": [],
   "source": [
    "def forward(self, x):\n",
    "    x = self.pool(self.relu(self.conv1(x)))  # 经典结构：Conv->ReLU->Pool\n",
    "    x = x.view(-1, 64 * 7 * 7)               # 特征图展平\n",
    "    x = self.fc2(self.relu(self.fc1(x)))     # 全连接分类"
   ]
  },
  {
   "cell_type": "markdown",
   "id": "3233e022",
   "metadata": {},
   "source": [
    "5. 常见问题\n",
    "为什么要用CNN？\n",
    "\n",
    "局部连接\n",
    "参数共享\n",
    "平移不变性\n",
    "过拟合解决方案\n",
    "\n",
    "Dropout\n",
    "Batch Normalization\n",
    "数据增强\n",
    "梯度问题\n",
    "\n",
    "梯度消失/爆炸\n",
    "激活函数选择\n",
    "残差连接\n"
   ]
  },
  {
   "cell_type": "markdown",
   "id": "db2e4d3e",
   "metadata": {},
   "source": [
    "经典网络\n",
    "LeNet\n",
    "AlexNet\n",
    "VGG\n",
    "ResNet\n",
    "Inception\n",
    "\n",
    "\n"
   ]
  },
  {
   "cell_type": "code",
   "execution_count": null,
   "id": "3d2a2b6a-6152-44a2-a296-a2c70590151f",
   "metadata": {},
   "outputs": [],
   "source": [
    "# 常见优化方法\n",
    "optimizer = torch.optim.Adam(model.parameters())\n",
    "scheduler = torch.optim.lr_scheduler.StepLR()  # 学习率调整\n",
    "criterion = nn.CrossEntropyLoss()             # 损失函数"
   ]
  },
  {
   "cell_type": "code",
   "execution_count": null,
   "id": "94e8e315-3d93-4868-9fb2-fa58a84136c1",
   "metadata": {},
   "outputs": [],
   "source": []
  }
 ],
 "metadata": {
  "kernelspec": {
   "display_name": "NN",
   "language": "python",
   "name": "nn"
  },
  "language_info": {
   "codemirror_mode": {
    "name": "ipython",
    "version": 3
   },
   "file_extension": ".py",
   "mimetype": "text/x-python",
   "name": "python",
   "nbconvert_exporter": "python",
   "pygments_lexer": "ipython3",
   "version": "3.11.11"
  }
 },
 "nbformat": 4,
 "nbformat_minor": 5
}
