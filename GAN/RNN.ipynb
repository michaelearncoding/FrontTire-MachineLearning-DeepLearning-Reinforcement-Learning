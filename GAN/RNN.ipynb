{
 "cells": [
  {
   "cell_type": "markdown",
   "id": "83efdc94-f727-4686-826e-32a24161b103",
   "metadata": {},
   "source": [
    "1. 理论基础\n",
    "面试官可能会考察你对 RNN 核心概念的理解，包括其工作原理、变体和优化方法。\n",
    "\n",
    "常见问题：\n",
    "RNN 的基本结构是什么？\n",
    "\n",
    "考察你是否了解 RNN 的循环结构，以及如何通过时间步展开。\n",
    "\n",
    "RNN 的输入和输出是什么？\n",
    "\n",
    "考察你是否理解 RNN 如何处理序列数据（如时间序列或文本）。\n",
    "\n",
    "RNN 的梯度消失和梯度爆炸问题是什么？\n",
    "\n",
    "考察你是否了解 RNN 训练中的常见问题及其原因。\n",
    "\n",
    "LSTM 和 GRU 是什么？它们如何解决 RNN 的梯度消失问题？\n",
    "\n",
    "考察你是否了解 LSTM 和 GRU 的结构及其改进。\n",
    "\n",
    "RNN 的常见应用场景有哪些？\n",
    "\n",
    "考察你是否了解 RNN 在 NLP、时间序列预测等领域的应用。"
   ]
  },
  {
   "cell_type": "code",
   "execution_count": null,
   "id": "370941e4-c818-4a06-836a-26bb151d82a0",
   "metadata": {},
   "outputs": [],
   "source": []
  },
  {
   "cell_type": "markdown",
   "id": "4c22c17b-ffe8-430f-8f25-b0bc47db3833",
   "metadata": {},
   "source": [
    "2. 实践应用\n",
    "面试官可能会考察你在实际项目中如何应用 RNN，以及你对相关工具和框架的熟悉程度。\n",
    "\n",
    "常见问题：\n",
    "你用过哪些深度学习框架（如 TensorFlow、PyTorch）实现 RNN？\n",
    "\n",
    "考察你对框架的熟悉程度，能否快速实现一个简单的 RNN 模型。\n",
    "\n",
    "如何设计一个 RNN 模型来处理文本分类问题？\n",
    "\n",
    "考察你对模型设计的理解，包括嵌入层、RNN 层和全连接层的选择。\n",
    "\n",
    "如何处理变长序列数据？\n",
    "\n",
    "考察你是否了解填充（Padding）和掩码（Masking）技术。\n",
    "\n",
    "如何解决 RNN 的训练不稳定性问题？\n",
    "\n",
    "考察你是否了解梯度裁剪（Gradient Clipping）、权重初始化等方法。"
   ]
  },
  {
   "cell_type": "code",
   "execution_count": null,
   "id": "952e321c-b056-4d3b-937c-a5574e02eea0",
   "metadata": {},
   "outputs": [],
   "source": []
  },
  {
   "cell_type": "markdown",
   "id": "6e28f4dc-1d01-4ac3-856d-179017d38ff5",
   "metadata": {},
   "source": [
    "3. 代码实现\n",
    "面试官可能会要求你手写 RNN 的代码，或者解释某段代码的作用。\n",
    "\n",
    "常见问题：\n",
    "手写一个简单的 RNN 模型（如用于文本分类）。\n",
    "\n",
    "考察你是否能熟练使用框架（如 PyTorch 或 TensorFlow）实现 RNN。\n",
    "\n",
    "解释某段 RNN 代码的作用。\n",
    "\n",
    "考察你是否能理解代码的每一部分（如嵌入层、RNN 层、全连接层）的作用。\n",
    "\n",
    "如何实现 LSTM 或 GRU？\n",
    "\n",
    "考察你对 LSTM 和 GRU 的实现细节的理解。\n",
    "\n"
   ]
  },
  {
   "cell_type": "code",
   "execution_count": null,
   "id": "1bc308c8-da19-4709-82b6-84acba567c2c",
   "metadata": {},
   "outputs": [],
   "source": []
  },
  {
   "cell_type": "code",
   "execution_count": 7,
   "id": "4fbd221d-51d5-49ab-a968-04402c004bc7",
   "metadata": {},
   "outputs": [],
   "source": [
    "import torch\n",
    "import torch.nn as nn\n",
    "import torch.optim as optim\n",
    "#from torchtext.legacy import data, datasets\n",
    "import spacy"
   ]
  },
  {
   "cell_type": "code",
   "execution_count": 4,
   "id": "630a4242-0174-459b-abbb-774dd6fcd31e",
   "metadata": {},
   "outputs": [
    {
     "ename": "NameError",
     "evalue": "name 'data' is not defined",
     "output_type": "error",
     "traceback": [
      "\u001b[0;31m---------------------------------------------------------------------------\u001b[0m",
      "\u001b[0;31mNameError\u001b[0m                                 Traceback (most recent call last)",
      "Cell \u001b[0;32mIn[4], line 6\u001b[0m\n\u001b[1;32m      3\u001b[0m torch\u001b[38;5;241m.\u001b[39mmanual_seed(SEED)\n\u001b[1;32m      5\u001b[0m \u001b[38;5;66;03m# 定义字段\u001b[39;00m\n\u001b[0;32m----> 6\u001b[0m TEXT \u001b[38;5;241m=\u001b[39m data\u001b[38;5;241m.\u001b[39mField(tokenize\u001b[38;5;241m=\u001b[39m\u001b[38;5;124m'\u001b[39m\u001b[38;5;124mspacy\u001b[39m\u001b[38;5;124m'\u001b[39m, tokenizer_language\u001b[38;5;241m=\u001b[39m\u001b[38;5;124m'\u001b[39m\u001b[38;5;124men_core_web_sm\u001b[39m\u001b[38;5;124m'\u001b[39m)\n\u001b[1;32m      7\u001b[0m LABEL \u001b[38;5;241m=\u001b[39m data\u001b[38;5;241m.\u001b[39mLabelField(dtype\u001b[38;5;241m=\u001b[39mtorch\u001b[38;5;241m.\u001b[39mfloat)\n\u001b[1;32m      9\u001b[0m \u001b[38;5;66;03m# 加载 IMDb 数据集\u001b[39;00m\n",
      "\u001b[0;31mNameError\u001b[0m: name 'data' is not defined"
     ]
    }
   ],
   "source": [
    "# 设置随机种子\n",
    "SEED = 1234\n",
    "torch.manual_seed(SEED)\n",
    "\n",
    "# 定义字段\n",
    "TEXT = data.Field(tokenize='spacy', tokenizer_language='en_core_web_sm')\n",
    "LABEL = data.LabelField(dtype=torch.float)\n",
    "\n",
    "# 加载 IMDb 数据集\n",
    "train_data, test_data = datasets.IMDB.splits(TEXT, LABEL)\n",
    "\n",
    "# 构建词汇表\n",
    "TEXT.build_vocab(train_data, max_size=25000, vectors=\"glove.6B.100d\")\n",
    "LABEL.build_vocab(train_data)\n",
    "\n",
    "# 创建 DataLoader\n",
    "BATCH_SIZE = 64\n",
    "train_loader, test_loader = data.BucketIterator.splits(\n",
    "    (train_data, test_data), batch_size=BATCH_SIZE, device=device)"
   ]
  },
  {
   "cell_type": "code",
   "execution_count": null,
   "id": "6f952125-f3dc-4292-acf2-a2e5d8a0fe55",
   "metadata": {},
   "outputs": [],
   "source": [
    "class RNN(nn.Module):\n",
    "    def __init__(self, input_dim, embedding_dim, hidden_dim, output_dim):\n",
    "        super(RNN, self).__init__()\n",
    "        self.embedding = nn.Embedding(input_dim, embedding_dim)\n",
    "        self.rnn = nn.RNN(embedding_dim, hidden_dim, batch_first=True)\n",
    "        self.fc = nn.Linear(hidden_dim, output_dim)\n",
    "\n",
    "    def forward(self, text):\n",
    "        embedded = self.embedding(text)\n",
    "        output, hidden = self.rnn(embedded)\n",
    "        return self.fc(hidden.squeeze(0))"
   ]
  },
  {
   "cell_type": "code",
   "execution_count": null,
   "id": "9cf588e9-ca5a-4c8f-99e6-e85de68103bf",
   "metadata": {},
   "outputs": [],
   "source": [
    "# 4.4 初始化模型、损失函数和优化器\n",
    "\n",
    "INPUT_DIM = len(TEXT.vocab)\n",
    "EMBEDDING_DIM = 100\n",
    "HIDDEN_DIM = 256\n",
    "OUTPUT_DIM = 1\n",
    "\n",
    "model = RNN(INPUT_DIM, EMBEDDING_DIM, HIDDEN_DIM, OUTPUT_DIM)\n",
    "optimizer = optim.Adam(model.parameters())\n",
    "criterion = nn.BCEWithLogitsLoss()"
   ]
  },
  {
   "cell_type": "code",
   "execution_count": null,
   "id": "42255ef5-4e84-440d-ac2d-48f95dd792f9",
   "metadata": {},
   "outputs": [],
   "source": [
    "# 4.5 训练模型\n",
    "\n",
    "def train(model, iterator, optimizer, criterion):\n",
    "    model.train()\n",
    "    epoch_loss = 0\n",
    "    for batch in iterator:\n",
    "        optimizer.zero_grad()\n",
    "        predictions = model(batch.text).squeeze(1)\n",
    "        loss = criterion(predictions, batch.label)\n",
    "        loss.backward()\n",
    "        optimizer.step()\n",
    "        epoch_loss += loss.item()\n",
    "    return epoch_loss / len(iterator)"
   ]
  },
  {
   "cell_type": "code",
   "execution_count": null,
   "id": "76c97bea-8763-444a-8f09-572efd119d6b",
   "metadata": {},
   "outputs": [],
   "source": [
    "#4.6 评估模型\n",
    "\n",
    "def evaluate(model, iterator, criterion):\n",
    "    model.eval()\n",
    "    epoch_loss = 0\n",
    "    with torch.no_grad():\n",
    "        for batch in iterator:\n",
    "            predictions = model(batch.text).squeeze(1)\n",
    "            loss = criterion(predictions, batch.label)\n",
    "            epoch_loss += loss.item()\n",
    "    return epoch_loss / len(iterator)"
   ]
  },
  {
   "cell_type": "code",
   "execution_count": null,
   "id": "f110981d-4062-4069-ae70-8458e7d9f034",
   "metadata": {},
   "outputs": [],
   "source": []
  },
  {
   "cell_type": "code",
   "execution_count": null,
   "id": "08e3dc10-1638-4a7b-8af3-28421c17f310",
   "metadata": {},
   "outputs": [],
   "source": []
  },
  {
   "cell_type": "code",
   "execution_count": null,
   "id": "0015955c-5365-4de0-9b2e-e4136005709c",
   "metadata": {},
   "outputs": [],
   "source": []
  }
 ],
 "metadata": {
  "kernelspec": {
   "display_name": "NN",
   "language": "python",
   "name": "nn"
  },
  "language_info": {
   "codemirror_mode": {
    "name": "ipython",
    "version": 3
   },
   "file_extension": ".py",
   "mimetype": "text/x-python",
   "name": "python",
   "nbconvert_exporter": "python",
   "pygments_lexer": "ipython3",
   "version": "3.11.11"
  }
 },
 "nbformat": 4,
 "nbformat_minor": 5
}
